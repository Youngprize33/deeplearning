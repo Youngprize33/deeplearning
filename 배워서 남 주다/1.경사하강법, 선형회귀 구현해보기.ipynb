{
  "nbformat": 4,
  "nbformat_minor": 0,
  "metadata": {
    "colab": {
      "name": "1.경사하강법, 선형회귀 구현해보기.ipynb",
      "provenance": []
    },
    "kernelspec": {
      "name": "python3",
      "display_name": "Python 3"
    }
  },
  "cells": [
    {
      "cell_type": "markdown",
      "metadata": {
        "id": "36viYwkZCxwl"
      },
      "source": [
        "# 경사하강법, 선형 회귀 직접 구현해보기\r\n",
        "- 선형 회귀를 직접 만들어봅시다."
      ]
    },
    {
      "cell_type": "markdown",
      "metadata": {
        "id": "tAJwDIIZC2kf"
      },
      "source": [
        "## 데이터 준비\r\n",
        "- 우선, 선형 관계를 갖는 가상의 데이터를 만들어봅시다.\r\n",
        "- 예를들어, 일 평균 기온$(x)$에 따른 아이스크림 판매량$(y)$ 데이터입니다.\r\n",
        "- 아이스크림 판매량 $y$는 일 평균 기온이 14도 일 때, 대략 20개이고, 기온이 1도 증가하면 3씩 증가합니다.\r\n",
        "$$ y = 20 = 14\\cdot 3+b $$\r\n",
        "- 그러므로, $b$는 $-22$가 됩니다.\r\n",
        "\r\n",
        "$$ y = 3x -22 $$\r\n",
        "\r\n",
        "- 여기에, 하루에 -3 ~ 3개 정도의 오차가 발생한다고 합시다. 오차항 $r$을 넣어줍니다.\r\n",
        "\r\n",
        "$$ y = 3x -22 + r$$\r\n",
        "\r\n",
        "이런 식을 코드로 구현하여, 일 평균 기온이 10도 ~ 20도 일 때 아이스크림 판매량 데이터를 만들어보겠습니다."
      ]
    },
    {
      "cell_type": "code",
      "metadata": {
        "colab": {
          "base_uri": "https://localhost:8080/",
          "height": 319
        },
        "id": "bSYRBKvhCxCp",
        "outputId": "2f03b4dc-bc98-4d38-f47d-28c7c8adf6a7"
      },
      "source": [
        "import numpy as np # 행렬 처리 라이브러리\r\n",
        "import matplotlib.pyplot as plt\r\n",
        "%matplotlib inline\r\n",
        "\r\n",
        "rand_w = np.random.randint(2, 5) # 랜덤한 기울기 값 설정\r\n",
        "rand_b = np.random.randint(-3, 3) # 랜덤한 편향 값 설정\r\n",
        "\r\n",
        "def create_dummy_data(x):\r\n",
        "    r = np.random.randint(-2, 2) # -3 ~ 3 사이의 랜덤 값\r\n",
        "    y = x * rand_w + rand_b + r\r\n",
        "    return y\r\n",
        "\r\n",
        "X = [i/3+10 for i in range(0, 30)] # 10 ~ 20 사이의 값을 원소로 갖는 list\r\n",
        "Y = []\r\n",
        "\r\n",
        "# 각 x에 대응하는 y값 만들기\r\n",
        "for x in X:\r\n",
        "    y = create_dummy_data(x)\r\n",
        "    Y.append(y)\r\n",
        "\r\n",
        "print(X[:5])\r\n",
        "print(Y[:5])\r\n",
        "plt.scatter(X, Y)"
      ],
      "execution_count": 95,
      "outputs": [
        {
          "output_type": "stream",
          "text": [
            "[10.0, 10.333333333333334, 10.666666666666666, 11.0, 11.333333333333334]\n",
            "[29.0, 31.0, 30.0, 32.0, 31.0]\n"
          ],
          "name": "stdout"
        },
        {
          "output_type": "execute_result",
          "data": {
            "text/plain": [
              "<matplotlib.collections.PathCollection at 0x7f9d2a1a7a20>"
            ]
          },
          "metadata": {
            "tags": []
          },
          "execution_count": 95
        },
        {
          "output_type": "display_data",
          "data": {
            "image/png": "[encoded data removed]",
            "text/plain": [
              "<Figure size 432x288 with 1 Axes>"
            ]
          },
          "metadata": {
            "tags": [],
            "needs_background": "light"
          }
        }
      ]
    },
    {
      "cell_type": "markdown",
      "metadata": {
        "id": "x8Z2J7yYFIkB"
      },
      "source": [
        "- 선형 관계를 갖는 데이터 분포를 확인하실 수 있습니다.\r\n",
        "- 이제, 이 데이터들을 대표하는 선형 관계를 선형 회귀로 찾아봅시다."
      ]
    },
    {
      "cell_type": "markdown",
      "metadata": {
        "id": "mHDislwVFsdu"
      },
      "source": [
        "## 선형 회귀 가설 설정하기\r\n",
        "$$ y = wx + b$$\r\n",
        "- 아이스크림 판매량이 일평균 기온 $x$에 대해 위와 같은 선형 관계를 갖는다고 가정합니다.\r\n",
        "- $w$와 $b$를 각각 0으로 초기화합니다.\r\n",
        "- 특정 $w$와 $b$에 대한 선형회귀 결과를 계산하는 모델 함수와, 이에 대한 평균제곱오차(MSE)를 계산하는 함수를 만듭시다.\r\n",
        "\r\n",
        "$$ MSE(p, y) = \\frac{1}{n}\\sum^n_{i=1}\\sqrt{(p_i-y_i)^2} $$"
      ]
    },
    {
      "cell_type": "code",
      "metadata": {
        "colab": {
          "base_uri": "https://localhost:8080/"
        },
        "id": "eJEOXKYcFrSu",
        "outputId": "48b62ddc-35e5-4a2e-dade-d1467a5b600d"
      },
      "source": [
        "W = 0 # 모델 초기화\r\n",
        "B = 0 # 모델 초기화\r\n",
        "\r\n",
        "# 선형회귀를 수행하는 함수\r\n",
        "def predict(X, w, b):\r\n",
        "    pred = []\r\n",
        "    for x in X:\r\n",
        "        p = x * w + b\r\n",
        "        pred.append(p)\r\n",
        "    return pred\r\n",
        "\r\n",
        "def MSE(pred, Y):\r\n",
        "    sum = 0\r\n",
        "    for i in range(len(pred)):\r\n",
        "        y = Y[i]\r\n",
        "        p = pred[i]\r\n",
        "        err = y - p\r\n",
        "        squ = np.sqrt(err*err)\r\n",
        "        sum += squ\r\n",
        "    return sum / len(pred)\r\n",
        "\r\n",
        "print('X: 10 일 때, 예측값:', predict([10], W, B), '실제값:', Y[0], 'MSE:',MSE(predict([10], W, B), [Y[0]]))"
      ],
      "execution_count": 96,
      "outputs": [
        {
          "output_type": "stream",
          "text": [
            "X: 10 일 때, 예측값: [0] 실제값: 29.0 MSE: 29.0\n"
          ],
          "name": "stdout"
        }
      ]
    },
    {
      "cell_type": "markdown",
      "metadata": {
        "id": "ggVywlEKI4tq"
      },
      "source": [
        "## 기울기 구하기\r\n",
        "- MSE값을 수치 미분하여, 기울기를 구하는 함수를 만들어봅시다."
      ]
    },
    {
      "cell_type": "code",
      "metadata": {
        "colab": {
          "base_uri": "https://localhost:8080/"
        },
        "id": "syjaHEHkI4Nw",
        "outputId": "9b81fb71-f7e5-45dd-f229-42e4ed37c83f"
      },
      "source": [
        "def diff_w(X, Y, W, B):\r\n",
        "    pred = predict(X, W, B)\r\n",
        "    mse = MSE(pred, Y)\r\n",
        "\r\n",
        "    pred_d = predict(X, W - 1/100000, B) # w에서 미세한 값 빼고 계산\r\n",
        "    mse_d = MSE(pred_d, Y)\r\n",
        "\r\n",
        "    diff_e = mse - mse_d # w가 0.00001 변화했을 때, 에러의 변화량\r\n",
        "    gradient_w = diff_e * 100000 # w의 기울기\r\n",
        "    return gradient_w\r\n",
        "def diff_b(X, Y, W, B):\r\n",
        "    pred = predict(X, W, B)\r\n",
        "    mse = MSE(pred, Y)\r\n",
        "\r\n",
        "    pred_d = predict(X, W, B - 1/100000) # b에서 미세한 값 빼고 계산\r\n",
        "    mse_d = MSE(pred_d, Y)\r\n",
        "\r\n",
        "    diff_e = mse - mse_d # b가 0.00001 변화했을 때, 에러의 변화량\r\n",
        "    gradient_b = diff_e * 100000 # b의 기울기\r\n",
        "    return gradient_b\r\n",
        "\r\n",
        "# w와 b의 그래디언트 계산\r\n",
        "def diff(X, Y, W, B):\r\n",
        "    return diff_w(X,Y,W,B),diff_b(X,Y,W,B)\r\n",
        "\r\n",
        "print(diff(X, Y, W, B))"
      ],
      "execution_count": 97,
      "outputs": [
        {
          "output_type": "stream",
          "text": [
            "(-14.833333332830989, -0.9999999981857854)\n"
          ],
          "name": "stdout"
        }
      ]
    },
    {
      "cell_type": "markdown",
      "metadata": {
        "id": "oNFjcmRQLe08"
      },
      "source": [
        "## 그래디언트를 이용해 경사 하강법 구현하기\r\n",
        "- 이제 미분으로 구한 경사를 이용해, 경사 하강법을 구현해봅시다.\r\n",
        "$$ w_{i+1} = w - lr*grad(w_i)$$\r\n",
        "- $lr$은 학습율로, 한번에 얼마나 값을 크게 변화시킬지를 조정합니다.\r\n",
        "- `epochs`는 학습을 몇번이나 진행할 지 조정합니다."
      ]
    },
    {
      "cell_type": "code",
      "metadata": {
        "colab": {
          "base_uri": "https://localhost:8080/",
          "height": 282
        },
        "id": "RGnJXh8LMETA",
        "outputId": "de2a3e78-7be4-4b3a-cb94-3008f6266d09"
      },
      "source": [
        "W = 0\r\n",
        "B = 0\r\n",
        "\r\n",
        "lr = 0.001\r\n",
        "epochs = 200\r\n",
        "\r\n",
        "history = [] # 학습이 진행되면서, 에러가 어떻게 변화하는지 기록합니다.\r\n",
        "for i in range(1, epochs+1):\r\n",
        "    grad = diff(X, Y, W, B) # 기울기 계산\r\n",
        "    \r\n",
        "    W = W - (lr * grad[0])\r\n",
        "    B = B - (lr * grad[1])\r\n",
        "\r\n",
        "    err = MSE(predict(X, W, B), Y) # 에러 계산\r\n",
        "    history.append(err)\r\n",
        "\r\n",
        "# 학습 끝\r\n",
        "# 학습하며 변화한 에러를 시각화 해봅시다.\r\n",
        "plt.plot(history)"
      ],
      "execution_count": 119,
      "outputs": [
        {
          "output_type": "execute_result",
          "data": {
            "text/plain": [
              "[<matplotlib.lines.Line2D at 0x7f9d29bd8ba8>]"
            ]
          },
          "metadata": {
            "tags": []
          },
          "execution_count": 119
        },
        {
          "output_type": "display_data",
          "data": {
            "image/png": "[encoded data removed]",
            "text/plain": [
              "<Figure size 432x288 with 1 Axes>"
            ]
          },
          "metadata": {
            "tags": [],
            "needs_background": "light"
          }
        }
      ]
    },
    {
      "cell_type": "markdown",
      "metadata": {
        "id": "JpUOMXZ2Nful"
      },
      "source": [
        "## 결과 확인\r\n",
        "- 우리가 구한 `W`와 `B`가, 원래 데이터의 특징을 잘 반영하는지 확인해봅시다."
      ]
    },
    {
      "cell_type": "code",
      "metadata": {
        "colab": {
          "base_uri": "https://localhost:8080/",
          "height": 284
        },
        "id": "BHza8wUcNl2n",
        "outputId": "1835b36d-8c47-40b7-f12e-386bfa17b982"
      },
      "source": [
        "plt.scatter(X, Y)\r\n",
        "plt.plot(X, predict(X, W, B), color='r')"
      ],
      "execution_count": 122,
      "outputs": [
        {
          "output_type": "execute_result",
          "data": {
            "text/plain": [
              "[<matplotlib.lines.Line2D at 0x7f9d29b4f160>]"
            ]
          },
          "metadata": {
            "tags": []
          },
          "execution_count": 122
        },
        {
          "output_type": "display_data",
          "data": {
            "image/png": "[encoded data removed]",
            "text/plain": [
              "<Figure size 432x288 with 1 Axes>"
            ]
          },
          "metadata": {
            "tags": [],
            "needs_background": "light"
          }
        }
      ]
    },
    {
      "cell_type": "code",
      "metadata": {
        "colab": {
          "base_uri": "https://localhost:8080/"
        },
        "id": "cczt0_G2NxJJ",
        "outputId": "c3c16dc4-ce77-4c67-e221-b0a0ca230a8c"
      },
      "source": [
        "print('실제 w, b 값:',rand_w, rand_b)\r\n",
        "print('예측 w, b 값:', W, B)"
      ],
      "execution_count": 121,
      "outputs": [
        {
          "output_type": "stream",
          "text": [
            "실제 w, b 값: 3 -1\n",
            "예측 w, b 값: 2.8791777777682492 0.19366666667000043\n"
          ],
          "name": "stdout"
        }
      ]
    }
  ]
}