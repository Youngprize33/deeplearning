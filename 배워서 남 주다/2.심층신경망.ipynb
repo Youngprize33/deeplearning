{
  "nbformat": 4,
  "nbformat_minor": 0,
  "metadata": {
    "colab": {
      "name": "2.심층신경망.ipynb",
      "provenance": [],
      "collapsed_sections": []
    },
    "kernelspec": {
      "name": "python3",
      "display_name": "Python 3"
    },
    "accelerator": "GPU"
  },
  "cells": [
    {
      "cell_type": "markdown",
      "metadata": {
        "id": "QyjGoXa5Vhun"
      },
      "source": [
        "# 심층신경망 (DNN) 만들기\r\n",
        "- 손글씨를 분류하는 심층 신경망을 만들어봅시다.\r\n",
        "- 파이토치 라이브러리를 사용합니다.\r\n",
        "- 코랩 설정의 런타임-하드웨어 가속기에서 `gpu`를 선택하면 더 빨리 실행할 수 있습니다."
      ]
    },
    {
      "cell_type": "code",
      "metadata": {
        "id": "YcxfIOSMVd7v"
      },
      "source": [
        "import numpy as np\r\n",
        "import torch\r\n",
        "import torchvision.datasets as dsets\r\n",
        "import torchvision.transforms as transforms\r\n",
        "from torch.utils.data import DataLoader\r\n",
        "import matplotlib.pyplot as plt\r\n",
        "import random"
      ],
      "execution_count": 1,
      "outputs": []
    },
    {
      "cell_type": "code",
      "metadata": {
        "id": "lhCES9ZWV1kB"
      },
      "source": [
        "GPU = torch.cuda.is_available() \r\n",
        "device = torch.device(\"cuda\" if GPU else \"cpu\") # GPU 사용 가능하면 사용하고 아니면 CPU 사용"
      ],
      "execution_count": 2,
      "outputs": []
    },
    {
      "cell_type": "code",
      "metadata": {
        "id": "PRQb1hvAV2OO"
      },
      "source": [
        "torch.manual_seed(1)\r\n",
        "if device == 'cuda':\r\n",
        "    torch.cuda.manual_seed_all(1)"
      ],
      "execution_count": 3,
      "outputs": []
    },
    {
      "cell_type": "markdown",
      "metadata": {
        "id": "G5NNz1XpV5mU"
      },
      "source": [
        "## MNIST 데이터 불러오기"
      ]
    },
    {
      "cell_type": "code",
      "metadata": {
        "colab": {
          "base_uri": "https://localhost:8080/"
        },
        "id": "HgSRVGQfWDmV",
        "outputId": "2097358a-9088-4daf-8c72-922f1de044dc"
      },
      "source": [
        "from sklearn.datasets import fetch_openml # 데이터셋을 다운받기 위한 라이브러리\r\n",
        "mnist = fetch_openml('mnist_784') # 데이터셋 다운\r\n",
        "mnist.target = mnist.target.astype(np.int8) # 타입 변환\r\n",
        "\r\n",
        "print(mnist.data.shape)    # 이미지 데이터 크기\r\n",
        "print(mnist.target.shape)  # 라벨(정답) 데이터 크기"
      ],
      "execution_count": 4,
      "outputs": [
        {
          "output_type": "stream",
          "text": [
            "(70000, 784)\n",
            "(70000,)\n"
          ],
          "name": "stdout"
        }
      ]
    },
    {
      "cell_type": "code",
      "metadata": {
        "colab": {
          "base_uri": "https://localhost:8080/"
        },
        "id": "xM_kk4EcY8By",
        "outputId": "8613ddc9-b45e-4477-97c2-56d466d71cfc"
      },
      "source": [
        "# 원 핫 인코딩\r\n",
        "# 1, 2, 3 등으로 표현된 라벨 데이터를 아래와 같이 변환합니다.\r\n",
        "# [0, 1, 0, 0, 0, 0, 0, 0, 0, 0]\r\n",
        "# [0, 0, 1, 0, 0, 0, 0, 0, 0, 0]\r\n",
        "# [0, 0, 0, 1, 0, 0, 0, 0, 0, 0]\r\n",
        "from sklearn.preprocessing import OneHotEncoder\r\n",
        "enc = OneHotEncoder()\r\n",
        "one_hot = enc.fit_transform(mnist.target.reshape(-1, 1)).toarray()\r\n",
        "\r\n",
        "print(one_hot[:5])"
      ],
      "execution_count": 5,
      "outputs": [
        {
          "output_type": "stream",
          "text": [
            "[[0. 0. 0. 0. 0. 1. 0. 0. 0. 0.]\n",
            " [1. 0. 0. 0. 0. 0. 0. 0. 0. 0.]\n",
            " [0. 0. 0. 0. 1. 0. 0. 0. 0. 0.]\n",
            " [0. 1. 0. 0. 0. 0. 0. 0. 0. 0.]\n",
            " [0. 0. 0. 0. 0. 0. 0. 0. 0. 1.]]\n"
          ],
          "name": "stdout"
        }
      ]
    },
    {
      "cell_type": "code",
      "metadata": {
        "colab": {
          "base_uri": "https://localhost:8080/"
        },
        "id": "o1r5WfyUWIKF",
        "outputId": "6acb79be-9dce-4d27-9ce5-4a6af21fc9e6"
      },
      "source": [
        "# 학습 데이터\r\n",
        "x_train = mnist.data[:50000]\r\n",
        "y_train = mnist.target[:50000]\r\n",
        "\r\n",
        "# 테스트 데이터\r\n",
        "x_test = mnist.data[50000:]\r\n",
        "y_test = mnist.target[50000:]\r\n",
        "\r\n",
        "print(x_train.shape)\r\n",
        "print(y_train.shape)"
      ],
      "execution_count": 6,
      "outputs": [
        {
          "output_type": "stream",
          "text": [
            "(50000, 784)\n",
            "(50000,)\n"
          ],
          "name": "stdout"
        }
      ]
    },
    {
      "cell_type": "code",
      "metadata": {
        "colab": {
          "base_uri": "https://localhost:8080/"
        },
        "id": "uW4WzTnEXfUT",
        "outputId": "a2621ef9-5075-42f9-926f-bf250d2a6737"
      },
      "source": [
        "x_train = torch.FloatTensor(x_train).to(device)\r\n",
        "x_test = torch.FloatTensor(x_test).to(device)\r\n",
        "\r\n",
        "y_train = torch.LongTensor(y_train).to(device)\r\n",
        "y_test = torch.LongTensor(y_test).to(device)\r\n",
        "\r\n",
        "print(x_train.shape)\r\n",
        "print(y_train.shape)"
      ],
      "execution_count": 7,
      "outputs": [
        {
          "output_type": "stream",
          "text": [
            "torch.Size([50000, 784])\n",
            "torch.Size([50000])\n"
          ],
          "name": "stdout"
        }
      ]
    },
    {
      "cell_type": "markdown",
      "metadata": {
        "id": "99aXDXsFWWnq"
      },
      "source": [
        "## 심층 신경망 모델 만들기\r\n",
        "| 계층 이름 | 크기 |\r\n",
        "| ---- | -- |\r\n",
        "| Input | 784 |\r\n",
        "| Dense | 512 |\r\n",
        "| ReLU | |\r\n",
        "| Dense | 512 |\r\n",
        "| Output | 10 |"
      ]
    },
    {
      "cell_type": "code",
      "metadata": {
        "colab": {
          "base_uri": "https://localhost:8080/"
        },
        "id": "CdV5WQl6WYmd",
        "outputId": "564a6997-9654-46e6-a32a-9d3c3ee81a83"
      },
      "source": [
        "l1 = torch.nn.Linear((28*28), 512).to(device)\r\n",
        "l2 = torch.nn.Linear(512, 10).to(device)\r\n",
        "relu = torch.nn.ReLU()\r\n",
        "\r\n",
        "model = torch.nn.Sequential(l1, relu, l2)\r\n",
        "model"
      ],
      "execution_count": 8,
      "outputs": [
        {
          "output_type": "execute_result",
          "data": {
            "text/plain": [
              "Sequential(\n",
              "  (0): Linear(in_features=784, out_features=512, bias=True)\n",
              "  (1): ReLU()\n",
              "  (2): Linear(in_features=512, out_features=10, bias=True)\n",
              ")"
            ]
          },
          "metadata": {
            "tags": []
          },
          "execution_count": 8
        }
      ]
    },
    {
      "cell_type": "markdown",
      "metadata": {
        "id": "l0vs73AFau6g"
      },
      "source": [
        "## 심층 신경망 학습시키기"
      ]
    },
    {
      "cell_type": "code",
      "metadata": {
        "id": "u7XKmXoyXTxX"
      },
      "source": [
        "cost = torch.nn.CrossEntropyLoss().to(device) # 파이토치에 내장된, 분류용 비용 함수입니다.\r\n",
        "optimizer = torch.optim.SGD(model.parameters(), lr=0.01) # 경사하강법 설정입니다. 여기서 학습율을 조정할 수 있습니다."
      ],
      "execution_count": 9,
      "outputs": []
    },
    {
      "cell_type": "code",
      "metadata": {
        "colab": {
          "base_uri": "https://localhost:8080/"
        },
        "id": "QAypZKLqXbCy",
        "outputId": "15201b20-746c-4555-99b2-fef9f5ffaa90"
      },
      "source": [
        "epochs = 200\r\n",
        "for epoch in range(1, epochs+1):\r\n",
        "    optimizer.zero_grad()                # 기울기 초기화\r\n",
        "    hypothesis = model(x_train)          # 예측 수행\r\n",
        "    cost_val = cost(hypothesis, y_train) # 비용(에러) 계산\r\n",
        "    cost_val.backward()                  # 발생한 에러를 역전파\r\n",
        "    optimizer.step()                     # 경사하강법\r\n",
        "\r\n",
        "    if epoch % 5 == 1 or epoch == epochs:\r\n",
        "        print('Epoch {:4d}/{} Cost: {:.6f}'.format(epoch, epochs, cost_val.item()))"
      ],
      "execution_count": 10,
      "outputs": [
        {
          "output_type": "stream",
          "text": [
            "Epoch    1/200 Cost: 29.119505\n",
            "Epoch    6/200 Cost: 76.456612\n",
            "Epoch   11/200 Cost: 28.792395\n",
            "Epoch   16/200 Cost: 111.801453\n",
            "Epoch   21/200 Cost: 1.681556\n",
            "Epoch   26/200 Cost: 1.162137\n",
            "Epoch   31/200 Cost: 2.093587\n",
            "Epoch   36/200 Cost: 1.052900\n",
            "Epoch   41/200 Cost: 0.843447\n",
            "Epoch   46/200 Cost: 0.845551\n",
            "Epoch   51/200 Cost: 0.738678\n",
            "Epoch   56/200 Cost: 0.625479\n",
            "Epoch   61/200 Cost: 0.594575\n",
            "Epoch   66/200 Cost: 0.488430\n",
            "Epoch   71/200 Cost: 0.443617\n",
            "Epoch   76/200 Cost: 0.451469\n",
            "Epoch   81/200 Cost: 0.401306\n",
            "Epoch   86/200 Cost: 0.400278\n",
            "Epoch   91/200 Cost: 0.364057\n",
            "Epoch   96/200 Cost: 0.399635\n",
            "Epoch  101/200 Cost: 0.339519\n",
            "Epoch  106/200 Cost: 0.331249\n",
            "Epoch  111/200 Cost: 0.327048\n",
            "Epoch  116/200 Cost: 0.321256\n",
            "Epoch  121/200 Cost: 0.294504\n",
            "Epoch  126/200 Cost: 0.300839\n",
            "Epoch  131/200 Cost: 0.283159\n",
            "Epoch  136/200 Cost: 0.283192\n",
            "Epoch  141/200 Cost: 0.272128\n",
            "Epoch  146/200 Cost: 0.295004\n",
            "Epoch  151/200 Cost: 0.272783\n",
            "Epoch  156/200 Cost: 0.248189\n",
            "Epoch  161/200 Cost: 0.237216\n",
            "Epoch  166/200 Cost: 0.233866\n",
            "Epoch  171/200 Cost: 0.236976\n",
            "Epoch  176/200 Cost: 0.285613\n",
            "Epoch  181/200 Cost: 0.233636\n",
            "Epoch  186/200 Cost: 0.218518\n",
            "Epoch  191/200 Cost: 0.213285\n",
            "Epoch  196/200 Cost: 0.210387\n",
            "Epoch  200/200 Cost: 0.208839\n"
          ],
          "name": "stdout"
        }
      ]
    },
    {
      "cell_type": "markdown",
      "metadata": {
        "id": "ap5-xZVYaxtO"
      },
      "source": [
        "## 평가하기"
      ]
    },
    {
      "cell_type": "code",
      "metadata": {
        "colab": {
          "base_uri": "https://localhost:8080/"
        },
        "id": "bfvTG7XGaynL",
        "outputId": "3fc02223-361e-48fc-b3e7-270c4b0b06a8"
      },
      "source": [
        "with torch.no_grad():  # 학습을 더 이상 진행하지 않음\r\n",
        "    pred_train = torch.argmax(model(x_train),1).cpu().data.numpy()\r\n",
        "    pred_test = torch.argmax(model(x_test),1).cpu().data.numpy()\r\n",
        "\r\n",
        "print(pred_train[:5])\r\n",
        "\r\n",
        "from sklearn.metrics import accuracy_score # 정확도 측정 라이브러리\r\n",
        "\r\n",
        "train_acc = accuracy_score(y_train.cpu().data, pred_train)\r\n",
        "test_acc = accuracy_score(y_test.cpu().data, pred_test)\r\n",
        "\r\n",
        "print(\"학습 정확도:\", train_acc)\r\n",
        "print(\"테스트 정확도:\", test_acc)"
      ],
      "execution_count": 11,
      "outputs": [
        {
          "output_type": "stream",
          "text": [
            "[5 0 4 1 9]\n",
            "학습 정확도: 0.93712\n",
            "테스트 정확도: 0.93345\n"
          ],
          "name": "stdout"
        }
      ]
    },
    {
      "cell_type": "markdown",
      "metadata": {
        "id": "8kw98dS1c9Ze"
      },
      "source": [
        "# 결과 시각화하기"
      ]
    },
    {
      "cell_type": "code",
      "metadata": {
        "colab": {
          "base_uri": "https://localhost:8080/",
          "height": 414
        },
        "id": "0dpn2Kobc88V",
        "outputId": "e9498497-fe1d-4382-bf37-1e95d8530772"
      },
      "source": [
        "pick = np.random.randint(0, 20000, size=10) # 랜덤한 값 10개 추출\r\n",
        "\r\n",
        "imgs = []\r\n",
        "for i in pick:\r\n",
        "    img = x_test[i].cpu().data\r\n",
        "    img = img.reshape(28, 28)\r\n",
        "    imgs.append(img)\r\n",
        "\r\n",
        "print('정답')\r\n",
        "print(y_test[pick]) # 정답 출력\r\n",
        "print('예측')\r\n",
        "print(pred_test[pick])\r\n",
        "\r\n",
        "fig = plt.figure(figsize=(12,6))\r\n",
        "\r\n",
        "for i in range(1, 11):\r\n",
        "    sub = fig.add_subplot(2, 5, i)\r\n",
        "    sub.imshow(imgs[i-1])"
      ],
      "execution_count": 13,
      "outputs": [
        {
          "output_type": "stream",
          "text": [
            "정답\n",
            "tensor([3, 8, 1, 9, 7, 1, 2, 3, 0, 1], device='cuda:0')\n",
            "예측\n",
            "[3 8 1 9 7 1 8 3 0 1]\n"
          ],
          "name": "stdout"
        },
        {
          "output_type": "display_data",
          "data": {
            "image/png": "[encoded data removed]",
            "text/plain": [
              "<Figure size 864x432 with 10 Axes>"
            ]
          },
          "metadata": {
            "tags": [],
            "needs_background": "light"
          }
        }
      ]
    }
  ]
}