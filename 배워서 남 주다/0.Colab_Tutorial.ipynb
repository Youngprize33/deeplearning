{
  "nbformat": 4,
  "nbformat_minor": 0,
  "metadata": {
    "colab": {
      "name": "Colab Tutorial.ipynb",
      "provenance": [],
      "collapsed_sections": []
    },
    "kernelspec": {
      "name": "python3",
      "display_name": "Python 3"
    }
  },
  "cells": [
    {
      "cell_type": "markdown",
      "metadata": {
        "id": "y0o0w-XA5muf"
      },
      "source": [
        "# colab 튜토리얼 by 백지오\r\n",
        "## colab 기본\r\n",
        "- colab에는 `코드셀`과 `텍스트셀`이 존재합니다.\r\n",
        "- 현재 본 텍스트가 작성되어 있는 영역은 `텍스트셀`입니다.\r\n",
        "- `Markdown`문법을 활용해 메모를 작성할 수 있습니다.\r\n",
        "- `코드셀`에서는 아래와 같이 `Python`코드를 작성하고, 결과를 확인할 수 있습니다."
      ]
    },
    {
      "cell_type": "code",
      "metadata": {
        "colab": {
          "base_uri": "https://localhost:8080/"
        },
        "id": "ulPvO2d95khA",
        "outputId": "cb22be36-64c9-494a-f895-9f9e1d0d32e2"
      },
      "source": [
        "print(\"Hello Colab!\")"
      ],
      "execution_count": 1,
      "outputs": [
        {
          "output_type": "stream",
          "text": [
            "Hello Colab!\n"
          ],
          "name": "stdout"
        }
      ]
    },
    {
      "cell_type": "markdown",
      "metadata": {
        "id": "HZGR78196LVh"
      },
      "source": [
        "## 간단한 머신러닝 실습하기\r\n",
        "- colab에는 기본적인 머신러닝 라이브러리가 설치되어 있습니다.\r\n",
        "- 코드셀에 코드를 작성해 간단한 머신러닝 실습을 진행해봅시다."
      ]
    },
    {
      "cell_type": "markdown",
      "metadata": {
        "id": "1usYQ3No67I5"
      },
      "source": [
        "### MNIST 데이터 불러오기\r\n",
        "- MNIST는 손으로 쓴 숫자 이미지 데이터셋입니다.\r\n",
        "- 0 ~ 9 의 값을 갖는 28 $\\times$ 28 크기 이미지로 구성되어 있습니다."
      ]
    },
    {
      "cell_type": "code",
      "metadata": {
        "colab": {
          "base_uri": "https://localhost:8080/"
        },
        "id": "upufitdJ7HTD",
        "outputId": "003cc959-46db-45e8-fe3e-7a4090d0f481"
      },
      "source": [
        "from sklearn.datasets import fetch_openml # 데이터셋을 다운받기 위한 라이브러리\r\n",
        "mnist = fetch_openml('mnist_784') # 데이터셋 다운\r\n",
        "\r\n",
        "print(mnist.data.shape)    # 이미지 데이터 크기\r\n",
        "print(mnist.target.shape)  # 라벨(정답) 데이터 크기"
      ],
      "execution_count": 4,
      "outputs": [
        {
          "output_type": "stream",
          "text": [
            "(70000, 784)\n",
            "(70000,)\n"
          ],
          "name": "stdout"
        }
      ]
    },
    {
      "cell_type": "markdown",
      "metadata": {
        "id": "ZukM0xkj8DUk"
      },
      "source": [
        "### MNIST 데이터 들여다보기\r\n",
        "- 데이터가 실제로 어떻게 생겼는지 살펴봅시다.\r\n",
        "- 한 개의 데이터는 784 (28$\\times$ 28) 크기의 벡터로 이루어져 있습니다.\r\n",
        "- MNIST에는 7만개의 데이터가 담겨 있습니다.\r\n",
        "- 데이터의 각 값은 0 ~ 255의 픽셀 값을 갖고 있습니다."
      ]
    },
    {
      "cell_type": "code",
      "metadata": {
        "colab": {
          "base_uri": "https://localhost:8080/",
          "height": 293
        },
        "id": "_lw7V5tx7fiV",
        "outputId": "958c9cac-799b-4a36-8be2-b04832d97889"
      },
      "source": [
        "sample = mnist.data[11]         # 11번째 이미지 데이터\r\n",
        "sample_label = mnist.target[11] # 11번째 라벨 데이터\r\n",
        "\r\n",
        "import matplotlib.pyplot as plt # 이미지를 출력해주는 라이브러리\r\n",
        "%matplotlib inline\r\n",
        "\r\n",
        "sample_image = sample.reshape(28, 28) # 784차원 벡터를 28x28 행렬(이미지)로 변환해줍니다.\r\n",
        "\r\n",
        "plt.imshow(sample_image) # 이미지를 출력 준비합니다.\r\n",
        "print(sample_label)       # 이미지의 라벨을 출력합니다.\r\n",
        "plt.show()                # 이미지를 출력합니다."
      ],
      "execution_count": 12,
      "outputs": [
        {
          "output_type": "stream",
          "text": [
            "5\n"
          ],
          "name": "stdout"
        },
        {
          "output_type": "display_data",
          "data": {
            "image/png": "[encoded data removed]",
            "text/plain": [
              "<Figure size 288x288 with 1 Axes>"
            ]
          },
          "metadata": {
            "tags": [],
            "needs_background": "light"
          }
        }
      ]
    },
    {
      "cell_type": "markdown",
      "metadata": {
        "id": "8YbgS7iz9hHi"
      },
      "source": [
        "### SVM(서포트 벡터 머신)으로 MNIST 분류해보기\r\n",
        "- 7만개의 데이터를 5만개의 학습 데이터와 2만개의 테스트 데이터로 나누어 SVM으로 분류해봅시다.\r\n",
        "- SVM은 딥러닝 이전에 널리 쓰이던 머신러닝 모델입니다."
      ]
    },
    {
      "cell_type": "code",
      "metadata": {
        "id": "u4Q_5H9w94a_"
      },
      "source": [
        "# 학습 데이터\r\n",
        "x_train = mnist.data[:50000]\r\n",
        "y_train = mnist.target[:50000]\r\n",
        "\r\n",
        "# 테스트 데이터\r\n",
        "x_test = mnist.data[50000:]\r\n",
        "y_test = mnist.target[50000:]"
      ],
      "execution_count": 13,
      "outputs": []
    },
    {
      "cell_type": "code",
      "metadata": {
        "colab": {
          "base_uri": "https://localhost:8080/"
        },
        "id": "V6BSyOgJ-R9R",
        "outputId": "79796d02-2d69-4881-dcd3-daeacbd58cff"
      },
      "source": [
        "import numpy as np                  # 행렬 처리를 위한 라이브러리\r\n",
        "from sklearn.svm import LinearSVC   # svm 라이브러리\r\n",
        "\r\n",
        "clf = LinearSVC(random_state=777)   # svm 초기화\r\n",
        "clf.fit(x_train, y_train)           # svm 학습"
      ],
      "execution_count": 14,
      "outputs": [
        {
          "output_type": "stream",
          "text": [
            "/usr/local/lib/python3.6/dist-packages/sklearn/svm/_base.py:947: ConvergenceWarning: Liblinear failed to converge, increase the number of iterations.\n",
            "  \"the number of iterations.\", ConvergenceWarning)\n"
          ],
          "name": "stderr"
        },
        {
          "output_type": "execute_result",
          "data": {
            "text/plain": [
              "LinearSVC(C=1.0, class_weight=None, dual=True, fit_intercept=True,\n",
              "          intercept_scaling=1, loss='squared_hinge', max_iter=1000,\n",
              "          multi_class='ovr', penalty='l2', random_state=777, tol=0.0001,\n",
              "          verbose=0)"
            ]
          },
          "metadata": {
            "tags": []
          },
          "execution_count": 14
        }
      ]
    },
    {
      "cell_type": "markdown",
      "metadata": {
        "id": "EXtnZp3r-q8K"
      },
      "source": [
        "### 성능 평가하기\r\n",
        "- 훈련한 SVM이 어느 정도의 성능을 보이는지, 테스트 데이터와 학습 데이터로 각각 평가해봅시다."
      ]
    },
    {
      "cell_type": "code",
      "metadata": {
        "colab": {
          "base_uri": "https://localhost:8080/"
        },
        "id": "LoaSnSSy-pj2",
        "outputId": "cbbb2716-a459-447d-e63d-1e3b5de38f68"
      },
      "source": [
        "# 예측 수행\r\n",
        "pred_train = clf.predict(x_train)\r\n",
        "pred_test = clf.predict(x_test)\r\n",
        "\r\n",
        "from sklearn.metrics import accuracy_score # 정확도 측정 라이브러리\r\n",
        "\r\n",
        "train_acc = accuracy_score(y_train, pred_train)\r\n",
        "test_acc = accuracy_score(y_test, pred_test)\r\n",
        "\r\n",
        "print(\"학습 정확도:\", train_acc)\r\n",
        "print(\"테스트 정확도:\", test_acc)"
      ],
      "execution_count": 15,
      "outputs": [
        {
          "output_type": "stream",
          "text": [
            "학습 정확도: 0.8915\n",
            "테스트 정확도: 0.8897\n"
          ],
          "name": "stdout"
        }
      ]
    },
    {
      "cell_type": "markdown",
      "metadata": {
        "id": "ympad5rI_W5Z"
      },
      "source": [
        "### Q: 왜 학습 데이터와 테스트 데이터를 분리하나요?\r\n",
        "- 위 평가 결과에서 알 수 있듯이, 보통 학습 정확도는 테스트 정확도보다 높게 나옵니다.\r\n",
        "- 그 이유는, 학습 과정에서 데이터의 특징 (숫자의 모양, 특징 등)이 아닌 데이터 그 자체 (11번째 데이터는 5! 등)에 익숙해졌기 때문입니다.\r\n",
        "- 이는 우리가 한 문제집을 계속 풀면, 아예 문제의 답을 외워버리는 것과 비슷합니다.\r\n",
        "- 이러한 현상을 과적합<sup>Overfitting</sup>이라고 합니다."
      ]
    },
    {
      "cell_type": "markdown",
      "metadata": {
        "id": "OqIPN0G-ABq7"
      },
      "source": [
        "# 부록: 결과 시각화 하기\r\n",
        "- 우리 모델이 실제 예측한 값과 실제 정답 값을 비교하여 출력해봅시다."
      ]
    },
    {
      "cell_type": "code",
      "metadata": {
        "colab": {
          "base_uri": "https://localhost:8080/",
          "height": 414
        },
        "id": "bu9w_rmxAQxI",
        "outputId": "bb34ec0e-bfa0-434d-e9fa-cb474588c47e"
      },
      "source": [
        "pick = np.random.randint(0, 20000, size=10) # 랜덤한 값 10개 추출\r\n",
        "\r\n",
        "imgs = []\r\n",
        "for i in pick:\r\n",
        "    img = x_test[i]\r\n",
        "    img = img.reshape(28, 28)\r\n",
        "    imgs.append(img)\r\n",
        "\r\n",
        "print('정답')\r\n",
        "print(y_test[pick]) # 정답 출력\r\n",
        "print('예측')\r\n",
        "print(pred_test[pick])\r\n",
        "\r\n",
        "fig = plt.figure(figsize=(12,6))\r\n",
        "\r\n",
        "for i in range(1, 11):\r\n",
        "    sub = fig.add_subplot(2, 5, i)\r\n",
        "    sub.imshow(imgs[i-1])\r\n"
      ],
      "execution_count": 37,
      "outputs": [
        {
          "output_type": "stream",
          "text": [
            "정답\n",
            "['8' '4' '8' '1' '5' '9' '4' '5' '7' '3']\n",
            "예측\n",
            "['8' '9' '8' '1' '5' '9' '4' '5' '7' '3']\n"
          ],
          "name": "stdout"
        },
        {
          "output_type": "display_data",
          "data": {
            "image/png": "[encoded data removed]",
            "text/plain": [
              "<Figure size 864x432 with 10 Axes>"
            ]
          },
          "metadata": {
            "tags": [],
            "needs_background": "light"
          }
        }
      ]
    }
  ]
}